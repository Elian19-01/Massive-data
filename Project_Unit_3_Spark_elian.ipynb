{
  "nbformat": 4,
  "nbformat_minor": 0,
  "metadata": {
    "colab": {
      "name": "Project_Unit_3_Spark_elian.ipynb",
      "provenance": [],
      "collapsed_sections": [
        "vlMcbNUbMqnF",
        "jdLsVtcSE6F9"
      ],
      "include_colab_link": true
    },
    "kernelspec": {
      "name": "python3",
      "display_name": "Python 3"
    },
    "language_info": {
      "name": "python"
    }
  },
  "cells": [
    {
      "cell_type": "markdown",
      "metadata": {
        "id": "view-in-github",
        "colab_type": "text"
      },
      "source": [
        "<a href=\"https://colab.research.google.com/github/Elian19-01/Massive-data/blob/main/Project_Unit_3_Spark_elian.ipynb\" target=\"_parent\"><img src=\"https://colab.research.google.com/assets/colab-badge.svg\" alt=\"Open In Colab\"/></a>"
      ]
    },
    {
      "cell_type": "markdown",
      "metadata": {
        "id": "vlMcbNUbMqnF"
      },
      "source": [
        "# Unit 3 Project Spark DataFrame API\n",
        "\n",
        "#Elian Jared Vega Mugarte\n",
        "\n",
        "#DATA 5A\n",
        "\n",
        "Read the instructions and answer the questions.\n",
        "\n"
      ]
    },
    {
      "cell_type": "markdown",
      "metadata": {
        "id": "eXQzA01OS_yQ"
      },
      "source": [
        "# Setup"
      ]
    },
    {
      "cell_type": "markdown",
      "metadata": {
        "id": "AbYZoVVWOZA5"
      },
      "source": [
        "Setup spark for running in local mode using these instructions."
      ]
    },
    {
      "cell_type": "code",
      "execution_count": null,
      "metadata": {
        "id": "RTU9CEhRpljx"
      },
      "outputs": [],
      "source": [
        "!apt-get install openjdk-8-jdk-headless -qq > /dev/null"
      ]
    },
    {
      "cell_type": "code",
      "execution_count": null,
      "metadata": {
        "id": "08iR_RrBrCi-"
      },
      "outputs": [],
      "source": [
        "!wget -q https://downloads.apache.org/spark/spark-3.1.3/spark-3.1.3-bin-hadoop2.7.tgz\n",
        "!tar xf spark-3.1.3-bin-hadoop2.7.tgz"
      ]
    },
    {
      "cell_type": "code",
      "execution_count": null,
      "metadata": {
        "id": "w_tnA2MasDfk"
      },
      "outputs": [],
      "source": [
        "import os\n",
        "os.environ[\"JAVA_HOME\"] = \"/usr/lib/jvm/java-8-openjdk-amd64\"\n",
        "os.environ[\"SPARK_HOME\"] = \"/content/spark-3.1.3-bin-hadoop2.7\""
      ]
    },
    {
      "cell_type": "code",
      "execution_count": null,
      "metadata": {
        "id": "WlgarYYOsHTy"
      },
      "outputs": [],
      "source": [
        "!pip install -q findspark\n",
        "import findspark\n",
        "findspark.init()"
      ]
    },
    {
      "cell_type": "code",
      "execution_count": null,
      "metadata": {
        "ExecuteTime": {
          "end_time": "2021-10-24T19:23:20.902261Z",
          "start_time": "2021-10-24T19:23:20.384147Z"
        },
        "id": "xgQaRx6rSaf9"
      },
      "outputs": [],
      "source": [
        "import pandas as pd\n",
        "import matplotlib.pyplot as plt\n",
        "%matplotlib inline"
      ]
    },
    {
      "cell_type": "code",
      "execution_count": null,
      "metadata": {
        "ExecuteTime": {
          "end_time": "2021-10-24T19:23:26.879048Z",
          "start_time": "2021-10-24T19:23:20.902940Z"
        },
        "id": "7ft3VivrSagB",
        "colab": {
          "base_uri": "https://localhost:8080/",
          "height": 216
        },
        "outputId": "3f0d3da4-fb65-4a29-e8a5-ced2e7d5f826"
      },
      "outputs": [
        {
          "output_type": "execute_result",
          "data": {
            "text/plain": [
              "<pyspark.sql.session.SparkSession at 0x7f5c9f818310>"
            ],
            "text/html": [
              "\n",
              "            <div>\n",
              "                <p><b>SparkSession - in-memory</b></p>\n",
              "                \n",
              "        <div>\n",
              "            <p><b>SparkContext</b></p>\n",
              "\n",
              "            <p><a href=\"http://70144c607520:4040\">Spark UI</a></p>\n",
              "\n",
              "            <dl>\n",
              "              <dt>Version</dt>\n",
              "                <dd><code>v3.1.3</code></dd>\n",
              "              <dt>Master</dt>\n",
              "                <dd><code>local[*]</code></dd>\n",
              "              <dt>AppName</dt>\n",
              "                <dd><code>pyspark-shell</code></dd>\n",
              "            </dl>\n",
              "        </div>\n",
              "        \n",
              "            </div>\n",
              "        "
            ]
          },
          "metadata": {},
          "execution_count": 57
        }
      ],
      "source": [
        "# create the Spark session\n",
        "from pyspark.sql import SparkSession\n",
        "# create the session\n",
        "spark = SparkSession.builder.getOrCreate()\n",
        "\n",
        "# create the context\n",
        "sc = spark.sparkContext\n",
        "spark"
      ]
    },
    {
      "cell_type": "markdown",
      "metadata": {
        "id": "gewv-lKMSagI"
      },
      "source": [
        "# Vietnam War Dataset\n",
        "\n",
        "**Pres. Johnson**: _What do you think about this Vietnam thing? I’d like to hear you talk a little bit._\n",
        "\n",
        "**Sen. Russell**: _Well, frankly, Mr. President, it’s the damn worse mess that I ever saw, and I don’t like to brag and I never have been right many times in my life, but I knew that we were going to get into this sort of mess when we went in there._\n",
        "\n",
        "May 27, 1964\n",
        "\n",
        "![banner](https://raw.githubusercontent.com/epfl-ada/2019/c17af0d3c73f11cb083717b7408fedd86245dc4d/Tutorials/04%20-%20Scaling%20Up/img/banner.jpg)"
      ]
    },
    {
      "cell_type": "markdown",
      "metadata": {
        "id": "skjUv84VSagJ"
      },
      "source": [
        "----\n",
        "\n",
        "The Vietnam War, also known as the Second Indochina War, and in Vietnam as the Resistance War Against America or simply the American War, was a conflict that occurred in Vietnam, Laos, and Cambodia from 1 November 1955 to the fall of Saigon on 30 April 1975. It was the second of the Indochina Wars and was officially fought between North Vietnam and the government of South Vietnam.\n",
        "\n",
        "**The dataset describes all the air force operation in during the Vietnam War.**\n",
        "\n",
        "**Bombing_Operations** [Get the dataset here](https://courses.compute.dtu.dk/02807/2021/lectures/week8/Bombing_Operations.json.gz)\n",
        "\n",
        "- AirCraft: _Aircraft model (example: EC-47)_\n",
        "- ContryFlyingMission: _Country_\n",
        "- MissionDate: _Date of the mission_\n",
        "- OperationSupported: _Supported War operation_ (example: [Operation Rolling Thunder](https://en.wikipedia.org/wiki/Operation_Rolling_Thunder))\n",
        "- PeriodOfDay: _Day or night_\n",
        "- TakeoffLocation: _Take off airport_\n",
        "- TimeOnTarget\n",
        "- WeaponType\n",
        "- WeaponsLoadedWeight\n",
        "\n",
        "**Aircraft_Glossary** [Get the dataset here](https://courses.compute.dtu.dk/02807/2021/lectures/week8/Aircraft_Glossary.json.gz)\n",
        "\n",
        "- AirCraft: _Aircraft model (example: EC-47)_\n",
        "- AirCraftName\n",
        "- AirCraftType\n",
        "\n",
        "**Dataset Information:**\n",
        "\n",
        "THOR is a painstakingly cultivated database of historic aerial bombings from World War I through Vietnam. THOR has already proven useful in finding unexploded ordnance in Southeast Asia and improving Air Force combat tactics:\n",
        "https://www.kaggle.com/usaf/vietnam-war-bombing-operations"
      ]
    },
    {
      "cell_type": "code",
      "source": [
        "from google.colab import drive\n",
        "drive.mount('/content/drive')"
      ],
      "metadata": {
        "colab": {
          "base_uri": "https://localhost:8080/"
        },
        "id": "s9bqQS9X9qik",
        "outputId": "75894ebb-f070-4f1d-e563-d886302c4caa"
      },
      "execution_count": 4,
      "outputs": [
        {
          "output_type": "stream",
          "name": "stdout",
          "text": [
            "Drive already mounted at /content/drive; to attempt to forcibly remount, call drive.mount(\"/content/drive\", force_remount=True).\n"
          ]
        }
      ]
    },
    {
      "cell_type": "markdown",
      "metadata": {
        "id": "VSWoULeWSagJ"
      },
      "source": [
        "Load the datasets (this may require a bit of patience)."
      ]
    },
    {
      "cell_type": "code",
      "execution_count": null,
      "metadata": {
        "ExecuteTime": {
          "end_time": "2021-10-24T19:23:33.092262Z",
          "start_time": "2021-10-24T19:23:26.881251Z"
        },
        "id": "XLyVPuLXSagK"
      },
      "outputs": [],
      "source": [
        "df_aircraft = spark.read.json('/content/drive/MyDrive/spark_datasets/Aircraft_Glossary.json')"
      ]
    },
    {
      "cell_type": "code",
      "execution_count": null,
      "metadata": {
        "ExecuteTime": {
          "end_time": "2021-10-24T19:23:45.139473Z",
          "start_time": "2021-10-24T19:23:33.093231Z"
        },
        "id": "zxk1-oHuI3oq"
      },
      "outputs": [],
      "source": [
        "df_operations = spark.read.json('/content/drive/MyDrive/spark_datasets/Bombing_Operations.json')"
      ]
    },
    {
      "cell_type": "markdown",
      "metadata": {
        "id": "MP2JmCeoSagM"
      },
      "source": [
        "Display the schemas and inspect some rows of `df_operations`."
      ]
    },
    {
      "cell_type": "code",
      "execution_count": null,
      "metadata": {
        "ExecuteTime": {
          "end_time": "2021-10-24T19:23:45.141752Z",
          "start_time": "2021-10-24T19:23:45.140317Z"
        },
        "id": "KpUT8viNSagM",
        "colab": {
          "base_uri": "https://localhost:8080/"
        },
        "outputId": "3b880759-4061-497c-eff3-ca4ec83007b3"
      },
      "outputs": [
        {
          "output_type": "execute_result",
          "data": {
            "text/plain": [
              "StructType(List(StructField(AirCraft,StringType,true),StructField(ContryFlyingMission,StringType,true),StructField(MissionDate,StringType,true),StructField(OperationSupported,StringType,true),StructField(PeriodOfDay,StringType,true),StructField(TakeoffLocation,StringType,true),StructField(TargetCountry,StringType,true),StructField(TimeOnTarget,DoubleType,true),StructField(WeaponType,StringType,true),StructField(WeaponsLoadedWeight,LongType,true)))"
            ]
          },
          "metadata": {},
          "execution_count": 61
        }
      ],
      "source": [
        "# your code goes here\n",
        "df_operations.schema"
      ]
    },
    {
      "cell_type": "code",
      "execution_count": null,
      "metadata": {
        "ExecuteTime": {
          "end_time": "2021-10-24T19:23:45.143937Z",
          "start_time": "2021-10-24T19:23:45.142661Z"
        },
        "id": "6LJsbmlxSagO",
        "colab": {
          "base_uri": "https://localhost:8080/"
        },
        "outputId": "4adc5f30-bd20-413b-a29b-1e7af38d4c55"
      },
      "outputs": [
        {
          "output_type": "stream",
          "name": "stdout",
          "text": [
            "+--------+--------------------+-----------+------------------+-----------+---------------+-------------+------------+--------------------+-------------------+\n",
            "|AirCraft| ContryFlyingMission|MissionDate|OperationSupported|PeriodOfDay|TakeoffLocation|TargetCountry|TimeOnTarget|          WeaponType|WeaponsLoadedWeight|\n",
            "+--------+--------------------+-----------+------------------+-----------+---------------+-------------+------------+--------------------+-------------------+\n",
            "|   EC-47|UNITED STATES OF ...| 1971-06-05|              null|          D|   TAN SON NHUT|     CAMBODIA|      1005.0|                null|                  0|\n",
            "|   EC-47|UNITED STATES OF ...| 1972-12-26|              null|          D|  NAKHON PHANOM|SOUTH VIETNAM|       530.0|                null|                  0|\n",
            "|    RF-4|UNITED STATES OF ...| 1973-07-28|              null|          D|       UDORN AB|         LAOS|       730.0|                null|                  0|\n",
            "|     A-1|UNITED STATES OF ...| 1970-02-02|              null|          N|  NAKHON PHANOM|         LAOS|      1415.0|BLU27 FIRE BOMB (...|              17400|\n",
            "|    A-37|     VIETNAM (SOUTH)| 1970-10-08|              null|          D|         DANANG|SOUTH VIETNAM|      1240.0|                null|                  0|\n",
            "|     F-4|UNITED STATES OF ...| 1970-11-25|              null|          D|        UBON AB|         LAOS|       650.0|MK 82 GP BOMB (50...|              31860|\n",
            "|     A-4|UNITED STATES OF ...| 1972-03-08|              null|          D|    TONKIN GULF|         LAOS|      1005.0|                null|                  0|\n",
            "|     F-4|UNITED STATES OF ...| 1971-12-27|              null|       null|       UDORN AB|         LAOS|         0.0|                null|                  0|\n",
            "|     A-7|UNITED STATES OF ...| 1972-05-24|              null|       null|    TONKIN GULF|NORTH VIETNAM|         0.0|                null|                  0|\n",
            "|   EC-47|UNITED STATES OF ...| 1972-09-12|              null|          D|   TAN SON NHUT|SOUTH VIETNAM|       710.0|                null|                  0|\n",
            "+--------+--------------------+-----------+------------------+-----------+---------------+-------------+------------+--------------------+-------------------+\n",
            "only showing top 10 rows\n",
            "\n",
            "+--------+--------------------+--------------------+\n",
            "|AirCraft|        AirCraftName|        AirCraftType|\n",
            "+--------+--------------------+--------------------+\n",
            "|     A-1|Douglas A-1 Skyra...|         Fighter Jet|\n",
            "|    A-26|Douglas A-26 Invader|        Light Bomber|\n",
            "|    A-37|Cessna A-37 Drago...|Light ground-atta...|\n",
            "|     A-4|McDonnell Douglas...|         Fighter Jet|\n",
            "|     A-5|North American A-...|          Bomber Jet|\n",
            "|     A-6|Grumman A-6 Intruder|     Attack Aircraft|\n",
            "|     A-7|  LTV A-7 Corsair II|     Attack Aircraft|\n",
            "|  AC-119|Fairchild AC-119 ...|Military Transpor...|\n",
            "|  AC-123|Fairchild C-123 P...|Military Transpor...|\n",
            "|  AC-130|Lockheed AC-130 S...|Fixed wing ground...|\n",
            "+--------+--------------------+--------------------+\n",
            "only showing top 10 rows\n",
            "\n"
          ]
        }
      ],
      "source": [
        "# your code goes here\n",
        "df_operations.show(10)\n",
        "df_aircraft.show(10)"
      ]
    },
    {
      "cell_type": "markdown",
      "metadata": {
        "id": "JrVFMtz4I3os"
      },
      "source": [
        "How many bombing operations are described in `df_operations`?"
      ]
    },
    {
      "cell_type": "code",
      "execution_count": null,
      "metadata": {
        "ExecuteTime": {
          "end_time": "2021-10-24T19:23:45.148364Z",
          "start_time": "2021-10-24T19:23:45.145010Z"
        },
        "id": "hMAab2rJSagU",
        "colab": {
          "base_uri": "https://localhost:8080/"
        },
        "outputId": "d1091bd7-c973-40c4-c8b3-ed86e81b1f46"
      },
      "outputs": [
        {
          "output_type": "stream",
          "name": "stdout",
          "text": [
            "+------------------------+\n",
            "|bombing_operations_count|\n",
            "+------------------------+\n",
            "|                  121126|\n",
            "+------------------------+\n",
            "\n"
          ]
        }
      ],
      "source": [
        "# your code goes here\n",
        "#en este codigo lo que hice fue buscar en la columna de WeaponType los valores que digan BOMB\n",
        "# pues pq asumo que esas son misiones de bombardeo xd y contarlos\n",
        "df_operations.createOrReplaceTempView(\"df_operations\")\n",
        "bombing_operations_countdf = spark.sql(\"SELECT count(*) as bombing_operations_count from df_operations where WeaponType LIKE '%BOMB%'\")\n",
        "bombing_operations_countdf.show()"
      ]
    },
    {
      "cell_type": "markdown",
      "metadata": {
        "id": "hkKWEEcLSagW"
      },
      "source": [
        "# Question 1: Which countries are involved and in how many missions? "
      ]
    },
    {
      "cell_type": "markdown",
      "metadata": {
        "id": "MwPL1-P5SagW"
      },
      "source": [
        "The country associated with the operation is found in the `ContryFlyingMission` [sic] field. Display the result using `show`."
      ]
    },
    {
      "cell_type": "code",
      "execution_count": null,
      "metadata": {
        "ExecuteTime": {
          "end_time": "2021-10-24T19:23:45.151379Z",
          "start_time": "2021-10-24T19:23:45.149964Z"
        },
        "id": "BWcMVcgwSagX",
        "scrolled": true,
        "colab": {
          "base_uri": "https://localhost:8080/"
        },
        "outputId": "8ee85ca9-9858-4855-c126-e22ded0ffaae"
      },
      "outputs": [
        {
          "output_type": "stream",
          "name": "stdout",
          "text": [
            "+--------------------+-------------------------+\n",
            "| ContryFlyingMission|ContryFlyingMissionNumber|\n",
            "+--------------------+-------------------------+\n",
            "|UNITED STATES OF ...|                  3708997|\n",
            "|     VIETNAM (SOUTH)|                   622013|\n",
            "|                LAOS|                    32777|\n",
            "|       KOREA (SOUTH)|                    24469|\n",
            "|           AUSTRALIA|                    12519|\n",
            "+--------------------+-------------------------+\n",
            "\n"
          ]
        }
      ],
      "source": [
        "# your code goes here\n",
        "CFM = spark.sql(\"SELECT ContryFlyingMission, count(*) as ContryFlyingMissionNumber from df_operations group by ContryFlyingMission order by ContryFlyingMissionNumber desc\") \n",
        "CFM.show()\n",
        "#aquí se pueden ver los 5 paises que participaron y el que mayor bombas lanzío fue USA"
      ]
    },
    {
      "cell_type": "markdown",
      "metadata": {
        "id": "5wQNXQnOSaga"
      },
      "source": [
        "Plot a horizontal bar chart with the number of operations by country. Consider using a logarithmic scale due to the skewedness of per country operations."
      ]
    },
    {
      "cell_type": "code",
      "execution_count": null,
      "metadata": {
        "ExecuteTime": {
          "end_time": "2021-10-24T19:23:45.154898Z",
          "start_time": "2021-10-24T19:23:45.152508Z"
        },
        "id": "4nVJdPLDSagb",
        "colab": {
          "base_uri": "https://localhost:8080/",
          "height": 526
        },
        "outputId": "5de318c0-2568-436c-da76-2db85291c611"
      },
      "outputs": [
        {
          "output_type": "stream",
          "name": "stderr",
          "text": [
            "/usr/local/lib/python3.7/dist-packages/ipykernel_launcher.py:11: MatplotlibDeprecationWarning: Using a string of single character colors as a color sequence is deprecated. Use an explicit list instead.\n",
            "  # This is added back by InteractiveShellApp.init_path()\n"
          ]
        },
        {
          "output_type": "display_data",
          "data": {
            "text/plain": [
              "<Figure size 640x480 with 1 Axes>"
            ],
            "image/png": "[encoded data removed]"
          },
          "metadata": {}
        }
      ],
      "source": [
        "# your code goes here\n",
        "import numpy as np\n",
        "\n",
        "df = spark.sql(\"SELECT ContryFlyingMission, COUNT(*) as NumOps from df_operations GROUP BY ContryFlyingMission ORDER BY NumOps DESC\")\n",
        "df_NumBombingOps = df.toPandas()\n",
        "df_NumBombingOps['NumOps'] = np.log10(df_NumBombingOps['NumOps'])\n",
        "plt.rcdefaults()\n",
        "fig, ax = plt.subplots()\n",
        "\n",
        "\n",
        "ax.barh(df_NumBombingOps['ContryFlyingMission'], df_NumBombingOps['NumOps'], align='center', color = 'rgbky')\n",
        "ax.invert_yaxis()  # labels read top-to-bottom\n",
        "ax.set_xlabel('Number of operations')\n",
        "ax.set_title('Number of Operations by Country, logarithmic scale base 10')\n",
        "ax.grid()\n"
      ]
    },
    {
      "cell_type": "markdown",
      "metadata": {
        "id": "LLan66cXSagf"
      },
      "source": [
        "# Question 2: Show the number of missions in time for each of the countries involved.\n",
        "\n",
        "Transform the dataframe to contain only relevant columns for this query. Observe that `MissionDate` field is of type string. You can use `F.to_date` to convert it to a `DateType`."
      ]
    },
    {
      "cell_type": "code",
      "execution_count": null,
      "metadata": {
        "ExecuteTime": {
          "end_time": "2021-10-24T19:23:45.157488Z",
          "start_time": "2021-10-24T19:23:45.156042Z"
        },
        "id": "BXNKt5PHSagf",
        "colab": {
          "base_uri": "https://localhost:8080/"
        },
        "outputId": "fd08308e-b013-480e-decf-fb68528e352f"
      },
      "outputs": [
        {
          "output_type": "stream",
          "name": "stdout",
          "text": [
            "+--------------------+-----------+\n",
            "| ContryFlyingMission|MissionDate|\n",
            "+--------------------+-----------+\n",
            "|UNITED STATES OF ...| 1971-06-05|\n",
            "|UNITED STATES OF ...| 1972-12-26|\n",
            "|UNITED STATES OF ...| 1973-07-28|\n",
            "|UNITED STATES OF ...| 1970-02-02|\n",
            "|     VIETNAM (SOUTH)| 1970-10-08|\n",
            "|UNITED STATES OF ...| 1970-11-25|\n",
            "|UNITED STATES OF ...| 1972-03-08|\n",
            "|UNITED STATES OF ...| 1971-12-27|\n",
            "|UNITED STATES OF ...| 1972-05-24|\n",
            "|UNITED STATES OF ...| 1972-09-12|\n",
            "+--------------------+-----------+\n",
            "only showing top 10 rows\n",
            "\n"
          ]
        }
      ],
      "source": [
        "# your code goes here\n",
        "from pyspark.sql.functions import *\n",
        "# Lo que pasó aquí es que usando el to_date ahora el MissionDate ya es un atributo de fecha.\n",
        "df_TimeFixed = df_operations.select(\"ContryFlyingMission\", to_date(df_operations.MissionDate, 'yyyy-MM-dd').alias('MissionDate'))\n",
        "df_TimeFixed.show(10)"
      ]
    },
    {
      "cell_type": "markdown",
      "metadata": {
        "id": "da9IeKntSagh"
      },
      "source": [
        "Now compute the count of missions per country for each `MissionDate` and sort the dataframe by date (ascending)."
      ]
    },
    {
      "cell_type": "code",
      "execution_count": null,
      "metadata": {
        "ExecuteTime": {
          "end_time": "2021-10-24T19:23:45.160482Z",
          "start_time": "2021-10-24T19:23:45.158609Z"
        },
        "id": "TLza0bF9Sagh",
        "colab": {
          "base_uri": "https://localhost:8080/"
        },
        "outputId": "0052b1e7-e908-4fdf-a6c1-f8c416f60cc2"
      },
      "outputs": [
        {
          "output_type": "stream",
          "name": "stdout",
          "text": [
            "+--------------------+-----------+------+\n",
            "| ContryFlyingMission|MissionDate|NumOps|\n",
            "+--------------------+-----------+------+\n",
            "|UNITED STATES OF ...| 1975-06-30|    17|\n",
            "|UNITED STATES OF ...| 1975-06-29|    15|\n",
            "|UNITED STATES OF ...| 1975-06-28|    22|\n",
            "|UNITED STATES OF ...| 1975-06-27|    30|\n",
            "|UNITED STATES OF ...| 1975-06-26|    25|\n",
            "|UNITED STATES OF ...| 1975-06-25|    28|\n",
            "|UNITED STATES OF ...| 1975-06-24|    29|\n",
            "|UNITED STATES OF ...| 1975-06-23|    24|\n",
            "|UNITED STATES OF ...| 1975-06-22|    17|\n",
            "|UNITED STATES OF ...| 1975-06-21|    23|\n",
            "|UNITED STATES OF ...| 1975-06-20|    30|\n",
            "|UNITED STATES OF ...| 1975-06-19|    29|\n",
            "|UNITED STATES OF ...| 1975-06-18|    35|\n",
            "|UNITED STATES OF ...| 1975-06-17|    35|\n",
            "|UNITED STATES OF ...| 1975-06-16|    34|\n",
            "|UNITED STATES OF ...| 1975-06-15|    11|\n",
            "|UNITED STATES OF ...| 1975-06-14|    18|\n",
            "|UNITED STATES OF ...| 1975-06-13|    32|\n",
            "|UNITED STATES OF ...| 1975-06-12|    37|\n",
            "|UNITED STATES OF ...| 1975-06-11|    35|\n",
            "+--------------------+-----------+------+\n",
            "only showing top 20 rows\n",
            "\n"
          ]
        }
      ],
      "source": [
        "# your code goes here\n",
        "#Como ahora  MissionDate ya es una fecha y no un string, se puede ordenar utilizandolas como parametro\n",
        "df_TimeFixed.createOrReplaceTempView(\"df_operations\")\n",
        "df = spark.sql(\"SELECT ContryFlyingMission, MissionDate, count(*) as NumOps from df_operations GROUP BY ContryFlyingMission, MissionDate order by MissionDate desc\")\n",
        "df.show()"
      ]
    },
    {
      "cell_type": "markdown",
      "metadata": {
        "id": "IAhOE55wSagj"
      },
      "source": [
        "Now we can plot the content with a different series for each country (using an appropriate plot type). To this end, you may use the pattern from \"Slides Week 4\" where we did a scatter plot colored by country."
      ]
    },
    {
      "cell_type": "code",
      "execution_count": null,
      "metadata": {
        "ExecuteTime": {
          "end_time": "2021-10-24T19:23:45.166834Z",
          "start_time": "2021-10-24T19:23:45.164213Z"
        },
        "id": "TWBowKgKI3ov",
        "colab": {
          "base_uri": "https://localhost:8080/",
          "height": 450
        },
        "outputId": "41f4c460-42ec-4292-e02d-ef0593fa39d9"
      },
      "outputs": [
        {
          "output_type": "execute_result",
          "data": {
            "text/plain": [
              "<matplotlib.legend.Legend at 0x7f5c9bce5710>"
            ]
          },
          "metadata": {},
          "execution_count": 68
        },
        {
          "output_type": "display_data",
          "data": {
            "text/plain": [
              "<Figure size 640x480 with 1 Axes>"
            ],
            "image/png": "[encoded data removed]"
          },
          "metadata": {}
        }
      ],
      "source": [
        "# your code goes here\n",
        "fig = plt.figure()\n",
        "ax = fig.add_subplot(111)\n",
        "\n",
        "df_Pandas = df.toPandas()\n",
        "\n",
        "for country, Operation in df_Pandas.groupby(\"ContryFlyingMission\"): \n",
        "    ax.scatter(Operation[\"MissionDate\"], Operation[\"NumOps\"], label=country, s=1)\n",
        "\n",
        "plt.legend(loc='best')"
      ]
    },
    {
      "cell_type": "markdown",
      "metadata": {
        "id": "GEMzTwxGSagp"
      },
      "source": [
        "We can observe how South Vietnam increased its missions starting from 1970. The drop in 1973 is motivated by the [Paris Peace Accords](https://en.wikipedia.org/wiki/Paris_Peace_Accords) that took place on January 27th, 1973, to establish peace in Vietnam and end the war."
      ]
    },
    {
      "cell_type": "markdown",
      "metadata": {
        "id": "zrfCmFGKI3ov"
      },
      "source": [
        "The plot looks a bit erratic, as the count is computed for each date. We can alleviate this by instead having the x-axis be months, and the y-axis be the count of operations in that month. Recompute such a dataframe and plot it once more. To this end, `F.trunc` will come in handy."
      ]
    },
    {
      "cell_type": "code",
      "execution_count": null,
      "metadata": {
        "ExecuteTime": {
          "end_time": "2021-10-24T19:23:45.171351Z",
          "start_time": "2021-10-24T19:23:45.169221Z"
        },
        "id": "g9L-_EVJI3ov",
        "colab": {
          "base_uri": "https://localhost:8080/",
          "height": 450
        },
        "outputId": "0f30bec5-d245-4698-fe87-72987fb9d18c"
      },
      "outputs": [
        {
          "output_type": "execute_result",
          "data": {
            "text/plain": [
              "<matplotlib.legend.Legend at 0x7f5c9d8f5b90>"
            ]
          },
          "metadata": {},
          "execution_count": 69
        },
        {
          "output_type": "display_data",
          "data": {
            "text/plain": [
              "<Figure size 640x480 with 1 Axes>"
            ],
            "image/png": "[encoded data removed]"
          },
          "metadata": {}
        }
      ],
      "source": [
        "# your code goes here\n",
        "df_Trunc = df.select(\"ContryFlyingMission\", trunc(df.MissionDate, 'year').alias('MissionDate'), \"NumOps\").toPandas()\n",
        "fig = plt.figure()\n",
        "ax = fig.add_subplot(111)\n",
        "\n",
        "for country, Operation in df_Trunc.groupby(\"ContryFlyingMission\"): \n",
        "    ax.scatter(Operation[\"MissionDate\"], Operation[\"NumOps\"], label=country, s=1)\n",
        "\n",
        "plt.legend(loc='best')"
      ]
    },
    {
      "cell_type": "markdown",
      "metadata": {
        "id": "dl6m0B6iSagp"
      },
      "source": [
        "----"
      ]
    },
    {
      "cell_type": "markdown",
      "metadata": {
        "id": "uEwBspLySagp"
      },
      "source": [
        "# Question 3: Who bombed this location?\n",
        "\n",
        "<img style=\"float: right;\" src=\"https://raw.githubusercontent.com/epfl-ada/2019/c17af0d3c73f11cb083717b7408fedd86245dc4d/Tutorials/04%20-%20Scaling%20Up/img/Hanoi_POL1966.jpg\">\n",
        "\n",
        "This picture is the Hanoi POL facility (North Vietnam) burning after it was attacked by the U.S. Air Force on 29 June 1966 in the context of the Rolling Thunder operation. \n",
        "\n",
        "We are interested in discovering what was the most common take-off location during that day. Transform the operations dataframe to contain operations for the date in question, then cache and execute this caching."
      ]
    },
    {
      "cell_type": "code",
      "execution_count": null,
      "metadata": {
        "ExecuteTime": {
          "end_time": "2021-10-24T19:23:45.175526Z",
          "start_time": "2021-10-24T19:23:45.173454Z"
        },
        "id": "jHJwkJ__I3ow",
        "colab": {
          "base_uri": "https://localhost:8080/"
        },
        "outputId": "985c4eb8-943d-49c2-f745-38f9669c0bab"
      },
      "outputs": [
        {
          "output_type": "stream",
          "name": "stdout",
          "text": [
            "+-------------------+\n",
            "|NumberOfBombingsOps|\n",
            "+-------------------+\n",
            "|                395|\n",
            "+-------------------+\n",
            "\n"
          ]
        }
      ],
      "source": [
        "# your code goes here\n",
        "df_operations.createOrReplaceTempView(\"df_operations\")\n",
        "df = spark.sql(\"SELECT COUNT(*) as NumberOfBombingsOps from df_operations WHERE MissionDate = '1966-06-29' AND TargetCountry='NORTH VIETNAM'\")\n",
        "df.show(10)"
      ]
    },
    {
      "cell_type": "markdown",
      "metadata": {
        "id": "Qurjwd0zSagr"
      },
      "source": [
        "Which coutries scheduled operations that day?\n",
        "\n",
        "How many operations where done per country on this date?"
      ]
    },
    {
      "cell_type": "code",
      "execution_count": null,
      "metadata": {
        "ExecuteTime": {
          "end_time": "2021-10-24T19:23:45.186211Z",
          "start_time": "2021-10-24T19:23:45.178702Z"
        },
        "id": "uoiVSE7NSags",
        "colab": {
          "base_uri": "https://localhost:8080/"
        },
        "outputId": "496b4631-44be-4116-d29e-f3784a8b1efb"
      },
      "outputs": [
        {
          "output_type": "stream",
          "name": "stdout",
          "text": [
            "+--------------------+-------------------+\n",
            "| ContryFlyingMission|NumberOfBombingsOps|\n",
            "+--------------------+-------------------+\n",
            "|     VIETNAM (SOUTH)|                  6|\n",
            "|UNITED STATES OF ...|                389|\n",
            "+--------------------+-------------------+\n",
            "\n"
          ]
        }
      ],
      "source": [
        "# your code goes here\n",
        "df = spark.sql(\"SELECT ContryFlyingMission, COUNT(*) as NumberOfBombingsOps from df_operations WHERE MissionDate = '1966-06-29' and TargetCountry='NORTH VIETNAM' group by ContryFlyingMission\")\n",
        "df.show(10)\n",
        "#se puede observar que en esa fecha hay registros de misiones de \n",
        "# Vietnam del sur y de US pero casi todas las operaciones fueron de parte de USA"
      ]
    },
    {
      "cell_type": "markdown",
      "metadata": {
        "id": "tFbiFhjdI3ox"
      },
      "source": [
        "Time the previous query using the `collect` action. Then cache the dataframe containing operations from the date in question, invoke an action and time the previous query on this cached dataframe. How much faster is the query on your cached dataframe?"
      ]
    },
    {
      "cell_type": "code",
      "execution_count": null,
      "metadata": {
        "ExecuteTime": {
          "end_time": "2021-10-24T19:23:45.193321Z",
          "start_time": "2021-10-24T19:23:45.191841Z"
        },
        "id": "iDx6i6YFI3oy"
      },
      "outputs": [],
      "source": [
        "# your code goes here"
      ]
    },
    {
      "cell_type": "markdown",
      "metadata": {
        "id": "_4Hzke2kSag1"
      },
      "source": [
        "Write the cached dataframe to disk and read it back (you needn't assign it to a variable when reading it in)."
      ]
    },
    {
      "cell_type": "code",
      "execution_count": null,
      "metadata": {
        "ExecuteTime": {
          "end_time": "2021-10-24T19:23:45.196387Z",
          "start_time": "2021-10-24T19:23:45.194669Z"
        },
        "id": "4_2p0Ha9Sag1"
      },
      "outputs": [],
      "source": [
        "# your code goes here"
      ]
    },
    {
      "cell_type": "markdown",
      "metadata": {
        "id": "DEW08u3_Sag6"
      },
      "source": [
        "Show the number of operations per takeoff location, in descending order."
      ]
    },
    {
      "cell_type": "code",
      "execution_count": null,
      "metadata": {
        "ExecuteTime": {
          "end_time": "2021-10-24T19:23:45.202222Z",
          "start_time": "2021-10-24T19:23:45.200859Z"
        },
        "id": "UYO-CuHISag8",
        "colab": {
          "base_uri": "https://localhost:8080/"
        },
        "outputId": "894a839f-bcc3-427d-8149-cfa2e7d72b82"
      },
      "outputs": [
        {
          "output_type": "stream",
          "name": "stdout",
          "text": [
            "+---------------+----------------+\n",
            "|TakeoffLocation|OperationsNumber|\n",
            "+---------------+----------------+\n",
            "|       BIEN HOA|          492324|\n",
            "|         DANANG|          489942|\n",
            "|        UBON AB|          348822|\n",
            "|   TAN SON NHUT|          311872|\n",
            "|       UDORN AB|          306556|\n",
            "|        CHU LAI|          242096|\n",
            "|      PHAN RANG|          240238|\n",
            "|    TONKIN GULF|          194191|\n",
            "|  NAKHON PHANOM|          194069|\n",
            "|          KORAT|          191081|\n",
            "|      BINH THUY|          144003|\n",
            "|        TUY HOA|          122547|\n",
            "|         PLEIKU|          110322|\n",
            "|   CAM RANH BAY|           96373|\n",
            "|        U TAPAO|           85041|\n",
            "|           VTBI|           75873|\n",
            "|         TAKHLI|           65435|\n",
            "|      NHA TRANG|           56818|\n",
            "|           VVPU|           53814|\n",
            "|        PHU CAT|           50353|\n",
            "+---------------+----------------+\n",
            "only showing top 20 rows\n",
            "\n"
          ]
        }
      ],
      "source": [
        "# your code goes here\n",
        "df_operations.createOrReplaceTempView(\"df_operations\")\n",
        "TOL = spark.sql(\"SELECT TakeoffLocation, count(*) as OperationsNumber from df_operations group by TakeoffLocation order by OperationsNumber desc\") \n",
        "TOL.show()"
      ]
    },
    {
      "cell_type": "markdown",
      "metadata": {
        "id": "cE8asfBPSahD"
      },
      "source": [
        "<img style=\"float: right;\" src=\"https://raw.githubusercontent.com/epfl-ada/2019/c17af0d3c73f11cb083717b7408fedd86245dc4d/Tutorials/04%20-%20Scaling%20Up/img/USS_Constellation.jpg\">\n",
        "\n",
        "\n",
        "That day the most common take-off location was the ship USS Constellation (CV-64). We cannot univocally identify one take off location, but we can reduce the possible candidates. Next steps: explore TimeOnTarget feature.\n",
        "\n",
        "_USS Constellation (CV-64), a Kitty Hawk-class supercarrier, was the third ship of the United States Navy to be named in honor of the \"new constellation of stars\" on the flag of the United States. One of the fastest ships in the Navy, as proven by her victory during a battlegroup race held in 1985, she was nicknamed \"Connie\" by her crew and officially as \"America's Flagship\"._"
      ]
    },
    {
      "cell_type": "markdown",
      "metadata": {
        "id": "dCxgTEfqI3oz"
      },
      "source": [
        "Finally, compute the mean, median first and third quantile of the `TimeOnTarget` value per takeoff location (you could make use of `F.percentile_approx` from pyspark 3.1.1 and up).  "
      ]
    },
    {
      "cell_type": "code",
      "execution_count": null,
      "metadata": {
        "ExecuteTime": {
          "end_time": "2021-10-24T19:23:45.204983Z",
          "start_time": "2021-10-24T19:23:45.203113Z"
        },
        "id": "MnvRGl9WI3oz"
      },
      "outputs": [],
      "source": [
        "# your code goes here"
      ]
    },
    {
      "cell_type": "markdown",
      "metadata": {
        "id": "lKKM6VS8SahD"
      },
      "source": [
        "----"
      ]
    },
    {
      "cell_type": "markdown",
      "metadata": {
        "id": "aaiVcdF8SahD"
      },
      "source": [
        "# Question 4: What is the most used aircraft type during the Vietnam war (number of operations)?\n"
      ]
    },
    {
      "cell_type": "markdown",
      "metadata": {
        "id": "xnV48FZlSahG"
      },
      "source": [
        "Let's check the content of `Aircraft_Glossary`. Have a look at it using `show`."
      ]
    },
    {
      "cell_type": "code",
      "execution_count": null,
      "metadata": {
        "ExecuteTime": {
          "end_time": "2021-10-24T19:23:45.208116Z",
          "start_time": "2021-10-24T19:23:45.206552Z"
        },
        "id": "yovhBV5sSahI",
        "colab": {
          "base_uri": "https://localhost:8080/"
        },
        "outputId": "ba230ac9-7dde-4815-fe91-8b0faf716afa"
      },
      "outputs": [
        {
          "output_type": "stream",
          "name": "stdout",
          "text": [
            "+--------+--------------------+--------------------+\n",
            "|AirCraft|        AirCraftName|        AirCraftType|\n",
            "+--------+--------------------+--------------------+\n",
            "|     A-1|Douglas A-1 Skyra...|         Fighter Jet|\n",
            "|    A-26|Douglas A-26 Invader|        Light Bomber|\n",
            "|    A-37|Cessna A-37 Drago...|Light ground-atta...|\n",
            "|     A-4|McDonnell Douglas...|         Fighter Jet|\n",
            "|     A-5|North American A-...|          Bomber Jet|\n",
            "|     A-6|Grumman A-6 Intruder|     Attack Aircraft|\n",
            "|     A-7|  LTV A-7 Corsair II|     Attack Aircraft|\n",
            "|  AC-119|Fairchild AC-119 ...|Military Transpor...|\n",
            "|  AC-123|Fairchild C-123 P...|Military Transpor...|\n",
            "|  AC-130|Lockheed AC-130 S...|Fixed wing ground...|\n",
            "|   AC-47|Douglas AC-47 Spooky|Ground attack air...|\n",
            "|    AH-1| Bell AH-1 HueyCobra|          Helicopter|\n",
            "|     B-1| Rockwell B-1 Lancer|Heavy strategic b...|\n",
            "|    B-52| B-52 Stratofortress|    Strategic bomber|\n",
            "|    B-57|Martin B-57 Canberra|     Tactical Bomber|\n",
            "|    B-66|Douglas B-66 Dest...|        Light Bomber|\n",
            "|     C-1| Grumman C-1A Trader|           Transport|\n",
            "|   C-117|     C-117D Skytrain|           Transport|\n",
            "|   C-119|Fairchild C-119 F...|Military Transpor...|\n",
            "|   C-123|Fairchild C-123 P...|Military Transpor...|\n",
            "+--------+--------------------+--------------------+\n",
            "only showing top 20 rows\n",
            "\n"
          ]
        }
      ],
      "source": [
        "df_aircraft.show()"
      ]
    },
    {
      "cell_type": "markdown",
      "metadata": {
        "id": "yO0ExxRoSahJ"
      },
      "source": [
        "How many unique values do we have in the `AirCraftType` column? Display them."
      ]
    },
    {
      "cell_type": "code",
      "execution_count": null,
      "metadata": {
        "ExecuteTime": {
          "end_time": "2021-10-24T19:23:45.210208Z",
          "start_time": "2021-10-24T19:23:45.209070Z"
        },
        "id": "Z4DnpCTmSahJ",
        "scrolled": true,
        "colab": {
          "base_uri": "https://localhost:8080/"
        },
        "outputId": "0eae78d7-f9e8-4dc9-b6c7-6030301b8444"
      },
      "outputs": [
        {
          "output_type": "stream",
          "name": "stdout",
          "text": [
            "+----------------------------+\n",
            "|count(DISTINCT AirCraftType)|\n",
            "+----------------------------+\n",
            "|                          59|\n",
            "+----------------------------+\n",
            "\n"
          ]
        }
      ],
      "source": [
        "# your code goes here\n",
        "df_aircraft.createOrReplaceTempView(\"df_aircraft\")\n",
        "act_count = spark.sql(\"SELECT count(distinct(AirCraftType)) from df_aircraft\")\n",
        "act_count.show()"
      ]
    },
    {
      "cell_type": "markdown",
      "metadata": {
        "id": "Z97Y9DuUSahK"
      },
      "source": [
        "Both our dataframes has a column called `AirCraft` (a shared key between the two). Join the dataframes together and name the result `df_operations_aircrafts`."
      ]
    },
    {
      "cell_type": "code",
      "execution_count": null,
      "metadata": {
        "ExecuteTime": {
          "end_time": "2021-10-24T19:23:45.212881Z",
          "start_time": "2021-10-24T19:23:45.211224Z"
        },
        "id": "s3j3Fu8kSahL",
        "scrolled": true,
        "colab": {
          "base_uri": "https://localhost:8080/"
        },
        "outputId": "206dc8ee-e3b5-46e2-a14f-676b43356765"
      },
      "outputs": [
        {
          "output_type": "stream",
          "name": "stdout",
          "text": [
            "+--------+--------------------+-----------+------------------+-----------+---------------+-------------+------------+--------------------+-------------------+--------+--------------------+--------------------+\n",
            "|AirCraft| ContryFlyingMission|MissionDate|OperationSupported|PeriodOfDay|TakeoffLocation|TargetCountry|TimeOnTarget|          WeaponType|WeaponsLoadedWeight|AirCraft|        AirCraftName|        AirCraftType|\n",
            "+--------+--------------------+-----------+------------------+-----------+---------------+-------------+------------+--------------------+-------------------+--------+--------------------+--------------------+\n",
            "|   EC-47|UNITED STATES OF ...| 1971-06-05|              null|          D|   TAN SON NHUT|     CAMBODIA|      1005.0|                null|                  0|   EC-47|Douglas C-47 Skyt...|Military Transpor...|\n",
            "|   EC-47|UNITED STATES OF ...| 1972-12-26|              null|          D|  NAKHON PHANOM|SOUTH VIETNAM|       530.0|                null|                  0|   EC-47|Douglas C-47 Skyt...|Military Transpor...|\n",
            "|    RF-4|UNITED STATES OF ...| 1973-07-28|              null|          D|       UDORN AB|         LAOS|       730.0|                null|                  0|    RF-4|McDonnell F-4 Pha...|  Fighter bomber jet|\n",
            "|     A-1|UNITED STATES OF ...| 1970-02-02|              null|          N|  NAKHON PHANOM|         LAOS|      1415.0|BLU27 FIRE BOMB (...|              17400|     A-1|Douglas A-1 Skyra...|         Fighter Jet|\n",
            "|    A-37|     VIETNAM (SOUTH)| 1970-10-08|              null|          D|         DANANG|SOUTH VIETNAM|      1240.0|                null|                  0|    A-37|Cessna A-37 Drago...|Light ground-atta...|\n",
            "|     F-4|UNITED STATES OF ...| 1970-11-25|              null|          D|        UBON AB|         LAOS|       650.0|MK 82 GP BOMB (50...|              31860|     F-4|McDonnell Douglas...|  Fighter Jet Bomber|\n",
            "|     A-4|UNITED STATES OF ...| 1972-03-08|              null|          D|    TONKIN GULF|         LAOS|      1005.0|                null|                  0|     A-4|McDonnell Douglas...|         Fighter Jet|\n",
            "|     F-4|UNITED STATES OF ...| 1971-12-27|              null|       null|       UDORN AB|         LAOS|         0.0|                null|                  0|     F-4|McDonnell Douglas...|  Fighter Jet Bomber|\n",
            "|     A-7|UNITED STATES OF ...| 1972-05-24|              null|       null|    TONKIN GULF|NORTH VIETNAM|         0.0|                null|                  0|     A-7|  LTV A-7 Corsair II|     Attack Aircraft|\n",
            "|   EC-47|UNITED STATES OF ...| 1972-09-12|              null|          D|   TAN SON NHUT|SOUTH VIETNAM|       710.0|                null|                  0|   EC-47|Douglas C-47 Skyt...|Military Transpor...|\n",
            "|   CH-53|UNITED STATES OF ...| 1974-06-13|              null|          N|  NAKHON PHANOM|     THAILAND|      1800.0|                null|                  0|   CH-53|Sikorsky CH-53 Se...|Heavy-lift cargo ...|\n",
            "|   CH-53|UNITED STATES OF ...| 1974-12-19|              null|          D|  NAKHON PHANOM|     THAILAND|       800.0|                null|                  0|   CH-53|Sikorsky CH-53 Se...|Heavy-lift cargo ...|\n",
            "|     O-1|     VIETNAM (SOUTH)| 1973-10-24|              null|          D|      NHA TRANG|SOUTH VIETNAM|       800.0|                null|                  0|     O-1| Cessna O-1 Bird Dog|Observation Aircraft|\n",
            "|    UH-1|     VIETNAM (SOUTH)| 1974-03-19|              null|          D|        PHU CAT|SOUTH VIETNAM|       800.0|        CARGO (TONS)|                  0|    UH-1|  Bell UH-1 Iroquois|  Utility Helicopter|\n",
            "|     C-7|UNITED STATES OF ...| 1970-05-08|              null|          D|   TAN SON NHUT|SOUTH VIETNAM|       800.0|                null|                  0|     C-7|       C-7A Caribou |Military Transpor...|\n",
            "|     A-6|UNITED STATES OF ...| 1971-05-12|              null|          N|    TONKIN GULF|         LAOS|      1304.0|CBU24 AN PR/MT (B...|              33200|     A-6|Grumman A-6 Intruder|     Attack Aircraft|\n",
            "|   EB-66|UNITED STATES OF ...| 1971-12-03|              null|          N|          KORAT|         LAOS|      1445.0|                null|                  0|   EB-66|Douglas B-66 Dest...|Light Tactical Bo...|\n",
            "|    T-28|                LAOS| 1971-12-19|              null|          D|     SAVANAKHET|         LAOS|       230.0|                null|                  0|    T-28| T-28 Trojan Trainer|   Training Aircraft|\n",
            "|     A-6|UNITED STATES OF ...| 1972-08-18|              null|       null|    TONKIN GULF|NORTH VIETNAM|         0.0|                null|                  0|     A-6|Grumman A-6 Intruder|     Attack Aircraft|\n",
            "|     A-7|UNITED STATES OF ...| 1972-10-15|              null|          D|    TONKIN GULF|NORTH VIETNAM|       110.0|                null|                  0|     A-7|  LTV A-7 Corsair II|     Attack Aircraft|\n",
            "+--------+--------------------+-----------+------------------+-----------+---------------+-------------+------------+--------------------+-------------------+--------+--------------------+--------------------+\n",
            "only showing top 20 rows\n",
            "\n"
          ]
        }
      ],
      "source": [
        "# your code goes here\n",
        "df_operations_aircrafts = df_operations.join(df_aircraft, df_operations.AirCraft == df_aircraft.AirCraft)\n",
        "df_operations_aircrafts.show()"
      ]
    },
    {
      "cell_type": "markdown",
      "metadata": {
        "id": "QhQbN8AOSahN"
      },
      "source": [
        "Determine the most used aircraft types for the entirety of the Vietnam War."
      ]
    },
    {
      "cell_type": "code",
      "execution_count": null,
      "metadata": {
        "ExecuteTime": {
          "end_time": "2021-10-24T19:23:45.215405Z",
          "start_time": "2021-10-24T19:23:45.213611Z"
        },
        "id": "S0QytpygSahU",
        "colab": {
          "base_uri": "https://localhost:8080/"
        },
        "outputId": "6f7cc2c1-ae24-434b-ac6f-4258bd1e08be"
      },
      "outputs": [
        {
          "output_type": "stream",
          "name": "stdout",
          "text": [
            "+--------------------+-------------+\n",
            "|        AirCraftType|MissionsCount|\n",
            "+--------------------+-------------+\n",
            "|  Fighter Jet Bomber|      1073126|\n",
            "|         Fighter Jet|       882594|\n",
            "|  Jet Fighter Bomber|       451385|\n",
            "|     Attack Aircraft|       315246|\n",
            "|Light ground-atta...|       267457|\n",
            "|  Fighter bomber jet|       242231|\n",
            "|Military Transpor...|       228426|\n",
            "|  Utility Helicopter|       146653|\n",
            "|    Strategic bomber|        99100|\n",
            "|     Tactical Bomber|        82219|\n",
            "|Observation Aircraft|        81820|\n",
            "|Fixed wing ground...|        75058|\n",
            "|Ground attack air...|        73843|\n",
            "|Carrier-based Fig...|        58691|\n",
            "|   Training Aircraft|        48435|\n",
            "|       Light fighter|        39999|\n",
            "|        Light Bomber|        39262|\n",
            "|Light Tactical Bo...|        34738|\n",
            "| Light Utility Plane|        28582|\n",
            "|Observation/ Ligh...|        24491|\n",
            "+--------------------+-------------+\n",
            "only showing top 20 rows\n",
            "\n"
          ]
        }
      ],
      "source": [
        "# your code goes here \n",
        "missions_aircrafts = df_operations_aircrafts.select(\"AirCraftType\")\n",
        "missions_aircrafts.groupBy(\"AirCraftType\").agg(count(\"*\").alias(\"MissionsCount\"))\\\n",
        "                  .sort(desc(\"MissionsCount\"))\\\n",
        "                  .show()"
      ]
    },
    {
      "cell_type": "markdown",
      "metadata": {
        "id": "ffrW-oV2SahW"
      },
      "source": [
        "Note: This dataset would require further cleaning and normalization. See `Fighter Jet Bomber`, `Jet Fighter Bomber`, `Fighter bomber jet`"
      ]
    },
    {
      "cell_type": "markdown",
      "metadata": {
        "id": "kvEao9ndI3o0"
      },
      "source": [
        "Determine which aircraft types were fastest (on average) to complete their operations."
      ]
    },
    {
      "cell_type": "code",
      "execution_count": 142,
      "metadata": {
        "ExecuteTime": {
          "end_time": "2021-10-24T19:23:45.220765Z",
          "start_time": "2021-10-24T19:23:45.218210Z"
        },
        "id": "TKruN8OpI3o1",
        "colab": {
          "base_uri": "https://localhost:8080/"
        },
        "outputId": "1091ce03-b573-43b3-b537-5fad2b614671"
      },
      "outputs": [
        {
          "output_type": "stream",
          "name": "stdout",
          "text": [
            "+--------------------+-----------------+\n",
            "|        AirCraftType|avg(TimeOnTarget)|\n",
            "+--------------------+-----------------+\n",
            "| Airliner/ Transport|              1.0|\n",
            "|Light Utility Hel...|            145.0|\n",
            "|    Cargo Prop plane|218.1818181818182|\n",
            "|Primary Pilot Tra...|226.2008733624454|\n",
            "|Carrier-based Ear...|407.8558077436582|\n",
            "+--------------------+-----------------+\n",
            "only showing top 5 rows\n",
            "\n"
          ]
        }
      ],
      "source": [
        "# your code goes here\n",
        "Fastest_act = df_operations_aircrafts.groupBy('AirCraftType').mean('TimeOnTarget').sort('avg(TimeOnTarget)')\n",
        "Fastest_act.show(5)\n",
        "#pues con este podemos ver que el Aircraft que terminó su trabajo más rapido\n",
        "#en promedio, fue Airliner/ Transport"
      ]
    },
    {
      "cell_type": "markdown",
      "metadata": {
        "id": "UUTgBt-uI3o1"
      },
      "source": [
        "What join strategy was chosen by spark for this last query? (Inspect the Spark UI SQL query DAG). \n",
        "\n",
        "Finally, use the `hint` function to request spark to do a Shuffle Merge Sort Join (SMJ) for the previous query (see [here](https://towardsdatascience.com/about-joins-in-spark-3-0-1e0ea083ea86) for more information). Did the query become faster or slower?"
      ]
    },
    {
      "cell_type": "code",
      "execution_count": null,
      "metadata": {
        "ExecuteTime": {
          "end_time": "2021-10-24T19:23:45.224626Z",
          "start_time": "2021-10-24T19:23:45.222890Z"
        },
        "id": "sNBFfFGII3o1"
      },
      "outputs": [],
      "source": [
        "# your code goes here"
      ]
    },
    {
      "cell_type": "markdown",
      "metadata": {
        "id": "jdLsVtcSE6F9"
      },
      "source": [
        "# Additional material\n",
        "\n",
        "* An animated timeline of bombing operations is available [here](https://cdn.filepicker.io/api/file/el7zpgfhTOqapUblTvUh) and discussions about the dataset [here](https://data.world/datamil/vietnam-war-thor-data/discuss/vietnam-war-thor-data/gftdgyjz)."
      ]
    }
  ]
}