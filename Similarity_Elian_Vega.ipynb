{
  "nbformat": 4,
  "nbformat_minor": 0,
  "metadata": {
    "colab": {
      "provenance": [],
      "include_colab_link": true
    },
    "kernelspec": {
      "name": "python3",
      "display_name": "Python 3"
    },
    "language_info": {
      "name": "python"
    }
  },
  "cells": [
    {
      "cell_type": "markdown",
      "metadata": {
        "id": "view-in-github",
        "colab_type": "text"
      },
      "source": [
        "<a href=\"https://colab.research.google.com/github/Elian19-01/Massive-data/blob/main/Similarity_Elian_Vega.ipynb\" target=\"_parent\"><img src=\"https://colab.research.google.com/assets/colab-badge.svg\" alt=\"Open In Colab\"/></a>"
      ]
    },
    {
      "cell_type": "markdown",
      "metadata": {
        "id": "kD7xlcz88pBj"
      },
      "source": [
        "# Similarity measures"
      ]
    },
    {
      "cell_type": "markdown",
      "metadata": {
        "id": "7xhNCIDs8pBo"
      },
      "source": [
        "The following workbook is based on p. 236 of the text, exercises 2.124–127, regarding \"similarity\" of two sets.\n"
      ]
    },
    {
      "cell_type": "markdown",
      "metadata": {
        "id": "9v2XQjQA8pBo"
      },
      "source": [
        "## Definitions of similarity"
      ]
    },
    {
      "cell_type": "markdown",
      "metadata": {
        "id": "SunTrI5Z8pBp"
      },
      "source": [
        "Given two sets $A$ and $B$:\n",
        "* the _cardinality measure_ of similarity is $|A \\cap B|$\n",
        "* the _Jaccard coefficient_ of similarity is $\\frac{|A \\cap B|}{|A \\cup B|}$"
      ]
    },
    {
      "cell_type": "markdown",
      "metadata": {
        "id": "O7gsy7QW8pBp"
      },
      "source": [
        "**Question:** In your own words, explain why these two measures can represent the similarity of two sets, and explain the difference between the two."
      ]
    },
    {
      "cell_type": "markdown",
      "metadata": {
        "id": "MNoNZ03m8pBq"
      },
      "source": [
        "The cardinality measure of similarity gives the number of items that are elements of both sets whereas the Jaccard coefficient gives the ratio of the number of items that are elements of both sets to the total number of unique elements in both sets. These two measures both represent similarity because they both give an idea of the quantity of elements that are members of both sets. \n",
        "\n",
        "The cardinality measures gives the items that are elements of both sets without context regarding the sets themselves. The Jaccard coefficient gives a better idea of what each set looks like, in terms of similarity, by providing the context of all items that are elements of both sets. However, the Jaccard coefficient does not provide the number of elements the sets have in common. "
      ]
    },
    {
      "cell_type": "markdown",
      "metadata": {
        "id": "qgx6cHvc8pBr"
      },
      "source": [
        "## Similarity as a metric"
      ]
    },
    {
      "cell_type": "markdown",
      "metadata": {
        "id": "iiS8ufXd8pBs"
      },
      "source": [
        "In class we defined a metric, which is a distance function that obeys some nice, standard properties.  See the writeup distributed in Week 2 notes for more information about metrics.\n",
        "\n",
        "Similarity, as a measure, is essentially the opposite of \"distance\":  two sets that are similar are not very \"far apart\".\n",
        "\n",
        "In fact, it turns out we can formalize this mathematically.  Consider the function\n",
        "$$ \\mathrm{dist}(A, B) = 1 - \\frac{|A \\cap B|}{|A \\cup B|}.$$\n",
        "Intuitively, this is the \"opposite\" of the Jaccard coefficient:  Think of the coefficient as a percentage, because it's a fraction between $0$ and $1$; if the Jaccard coefficient of $A$ and $B$ says something like the sets are \"20% similar,\" then $\\mathrm{dist}(A, B)$ would say they are \"80% different.\"\n",
        "\n",
        "This function is in fact a metric on sets.  Below, justify this by arguing that this function satisfies the four properties that a metric must satisfy (non-negativity, identity, symmetry, and triangle inequality)."
      ]
    },
    {
      "cell_type": "markdown",
      "metadata": {
        "id": "76OwY6EV8pBs"
      },
      "source": []
    },
    {
      "cell_type": "markdown",
      "metadata": {
        "id": "Te6qUcim8pBt"
      },
      "source": [
        "## Computing the two measures"
      ]
    },
    {
      "cell_type": "markdown",
      "metadata": {
        "id": "GkC37j-X8pBt"
      },
      "source": [
        "Implement a python function `sim_card` that returns the similarity of two sets using the cardinality measure:"
      ]
    },
    {
      "cell_type": "code",
      "execution_count": 1,
      "metadata": {
        "collapsed": true,
        "id": "Q4R-Hw5G8pBu"
      },
      "outputs": [],
      "source": [
        "def sim_card(list1, list2):\n",
        "    intersection = len(set.intersection(*[list1, list2]))\n",
        "    return intersection\n",
        "    pass"
      ]
    },
    {
      "cell_type": "markdown",
      "metadata": {
        "id": "-V8SY67m8pBv"
      },
      "source": [
        "Implement a python function `sim_jaccard` that returns the similarity of two sets using the Jaccard coefficient:"
      ]
    },
    {
      "cell_type": "code",
      "execution_count": 2,
      "metadata": {
        "collapsed": true,
        "id": "SifmPG3m8pBv"
      },
      "outputs": [],
      "source": [
        "def sim_jaccard(list1, list2):\n",
        "    intersection = sim_card(list1, list2)\n",
        "    union = (len(list1) + len(list2)) - intersection\n",
        "    return float(intersection) / union\n",
        "    pass"
      ]
    },
    {
      "cell_type": "markdown",
      "metadata": {
        "id": "ehNg_ZqG8pBw"
      },
      "source": [
        "You can use this space to test your functions.  Just be sure to hit the \"run\" button on the blocks above after you make changes, so that calling them below will invoke the correct code."
      ]
    },
    {
      "cell_type": "code",
      "execution_count": 3,
      "metadata": {
        "id": "7oEtz96u8pBw",
        "outputId": "ff904953-a420-420e-c700-2fca434d92ec",
        "colab": {
          "base_uri": "https://localhost:8080/"
        }
      },
      "outputs": [
        {
          "output_type": "stream",
          "name": "stdout",
          "text": [
            "The cardinality of jeffrey and jeff is 6  and the jaccard coefficient is 0.6\n",
            "The cardinality of kevin and kev is 3  and the jaccard coefficient is 1.0\n",
            "The cardinality of kevin and kev is 0  and the jaccard coefficient is 0.0\n"
          ]
        }
      ],
      "source": [
        "jeff = [1, 2, 3, 4, 5, 6]\n",
        "jeffrey = [1, 2, 3, 4, 5, 6, 7, 8, 9, 10]\n",
        "\n",
        "jeff = set(jeff)\n",
        "jeffrey = set(jeffrey)\n",
        "\n",
        "kevin = [11, 12, 13]\n",
        "kev = [11, 12, 13]\n",
        "\n",
        "kevin = set(kevin)\n",
        "kev = set(kev)\n",
        "\n",
        "a = sim_card(jeffrey, jeff) \n",
        "b = sim_jaccard(jeffrey, jeff)\n",
        "\n",
        "c = sim_card(kevin, kev)  \n",
        "d = sim_jaccard(kevin, kev)\n",
        "\n",
        "e = sim_card(kev, jeff)  \n",
        "f = sim_jaccard(kev, jeff) \n",
        "\n",
        "print(\"The cardinality of jeffrey and jeff is\", a, \" and the jaccard coefficient is\", b)\n",
        "print(\"The cardinality of kevin and kev is\", c, \" and the jaccard coefficient is\", d)\n",
        "print(\"The cardinality of kevin and kev is\", e, \" and the jaccard coefficient is\", f)"
      ]
    }
  ]
}